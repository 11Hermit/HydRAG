{
 "cells": [
  {
   "cell_type": "markdown",
   "metadata": {},
   "source": [
    "# HydRO - Hybrid Document RAG Orchestrator\n",
    "\n",
    "A powerful Retrieval-Augmented Generation (RAG) system that combines PDF document processing, semantic search, and Gemini's language model capabilities.\n",
    "\n",
    "## Features\n",
    "\n",
    "- PDF document processing with text chunking\n",
    "- Semantic search using FAISS and Sentence Transformers\n",
    "- Integration with Google's Gemini model for answer generation\n",
    "- Persistent storage of vector indices and metadata\n",
    "- Interactive query interface\n",
    "\n",
    "## Setup\n",
    "\n",
    "1. Install dependencies:\n",
    "```bash\n",
    "pip install -r requirements.txt\n",
    "```\n",
    "\n",
    "2. Create a `.env` file with your Google API key:\n",
    "```\n",
    "GOOGLE_API_KEY=your_api_key_here\n",
    "```\n",
    "\n",
    "3. Place your PDF documents in the `data/` directory.\n",
    "\n",
    "## Usage\n",
    "\n",
    "Run the main script:\n",
    "```bash\n",
    "python hydro.py\n",
    "```\n",
    "\n",
    "The system will:\n",
    "1. Process PDFs in the `data/` directory if running for the first time\n",
    "2. Create and save vector embeddings using FAISS\n",
    "3. Start an interactive query interface\n",
    "\n",
    "## Directory Structure\n",
    "\n",
    "- `data/` - Place your PDF documents here\n",
    "- `vector_store/` - Stores FAISS index and metadata\n",
    "- `hydro.py` - Main implementation\n",
    "- `requirements.txt` - Project dependencies\n"
   ]
  },
  {
   "cell_type": "markdown",
   "metadata": {},
   "source": []
  }
 ],
 "metadata": {
  "language_info": {
   "name": "python"
  }
 },
 "nbformat": 4,
 "nbformat_minor": 2
}
